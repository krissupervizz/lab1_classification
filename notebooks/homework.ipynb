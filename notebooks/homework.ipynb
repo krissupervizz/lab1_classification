{
 "cells": [
  {
   "cell_type": "code",
   "execution_count": 1,
   "metadata": {},
   "outputs": [],
   "source": [
    "import pandas as pd\n",
    "import numpy as np\n",
    "import seaborn as sns\n",
    "from matplotlib import pyplot as plt\n",
    "import os"
   ]
  },
  {
   "cell_type": "markdown",
   "metadata": {},
   "source": [
    "### Выбор метрики\n",
    "\n",
    "Так как наша модель обчается принимать решения о болезнях людей, то важнее минимизировать ошибку  false positive - решение, что человек не болен, когда он болен на самом деле. Следовательно....."
   ]
  },
  {
   "cell_type": "markdown",
   "metadata": {},
   "source": [
    "## Preprosessing"
   ]
  },
  {
   "cell_type": "code",
   "execution_count": 115,
   "metadata": {},
   "outputs": [],
   "source": [
    "raw_path = '../data/raw/'\n",
    "train = pd.read_csv(os.path.join(raw_path, 'train.csv'))\n",
    "test = pd.read_csv(os.path.join(raw_path, 'test.csv'))"
   ]
  },
  {
   "cell_type": "code",
   "execution_count": 114,
   "metadata": {},
   "outputs": [],
   "source": [
    "######\n",
    "train = train.set_index('ID')\n",
    "test = test.set_index('ID')"
   ]
  },
  {
   "cell_type": "code",
   "execution_count": 116,
   "metadata": {},
   "outputs": [
    {
     "data": {
      "text/plain": [
       "False"
      ]
     },
     "execution_count": 116,
     "metadata": {},
     "output_type": "execute_result"
    }
   ],
   "source": [
    "train = train.fillna(0)\n",
    "train.isnull().values.any()\n"
   ]
  },
  {
   "cell_type": "code",
   "execution_count": 117,
   "metadata": {},
   "outputs": [
    {
     "data": {
      "text/html": [
       "<div>\n",
       "<style scoped>\n",
       "    .dataframe tbody tr th:only-of-type {\n",
       "        vertical-align: middle;\n",
       "    }\n",
       "\n",
       "    .dataframe tbody tr th {\n",
       "        vertical-align: top;\n",
       "    }\n",
       "\n",
       "    .dataframe thead th {\n",
       "        text-align: right;\n",
       "    }\n",
       "</style>\n",
       "<table border=\"1\" class=\"dataframe\">\n",
       "  <thead>\n",
       "    <tr style=\"text-align: right;\">\n",
       "      <th></th>\n",
       "      <th>ID</th>\n",
       "      <th>Пол</th>\n",
       "      <th>Семья</th>\n",
       "      <th>Этнос</th>\n",
       "      <th>Национальность</th>\n",
       "      <th>Религия</th>\n",
       "      <th>Образование</th>\n",
       "      <th>Профессия</th>\n",
       "      <th>Вы работаете?</th>\n",
       "      <th>Выход на пенсию</th>\n",
       "      <th>...</th>\n",
       "      <th>Время пробуждения</th>\n",
       "      <th>Сон после обеда</th>\n",
       "      <th>Спорт, клубы</th>\n",
       "      <th>Религия, клубы</th>\n",
       "      <th>ID_y</th>\n",
       "      <th>Артериальная гипертензия</th>\n",
       "      <th>ОНМК</th>\n",
       "      <th>Стенокардия, ИБС, инфаркт миокарда</th>\n",
       "      <th>Сердечная недостаточность</th>\n",
       "      <th>Прочие заболевания сердца</th>\n",
       "    </tr>\n",
       "  </thead>\n",
       "  <tbody>\n",
       "    <tr>\n",
       "      <th>0</th>\n",
       "      <td>54-102-358-02</td>\n",
       "      <td>М</td>\n",
       "      <td>в браке в настоящее время</td>\n",
       "      <td>европейская</td>\n",
       "      <td>Русские</td>\n",
       "      <td>Христианство</td>\n",
       "      <td>3 - средняя школа / закон.среднее / выше среднего</td>\n",
       "      <td>низкоквалифицированные работники</td>\n",
       "      <td>1</td>\n",
       "      <td>0</td>\n",
       "      <td>...</td>\n",
       "      <td>06:00:00</td>\n",
       "      <td>0</td>\n",
       "      <td>0</td>\n",
       "      <td>0</td>\n",
       "      <td>54-102-358-02</td>\n",
       "      <td>0</td>\n",
       "      <td>0</td>\n",
       "      <td>0</td>\n",
       "      <td>0</td>\n",
       "      <td>0</td>\n",
       "    </tr>\n",
       "    <tr>\n",
       "      <th>1</th>\n",
       "      <td>54-103-101-01</td>\n",
       "      <td>Ж</td>\n",
       "      <td>в разводе</td>\n",
       "      <td>европейская</td>\n",
       "      <td>Русские</td>\n",
       "      <td>Христианство</td>\n",
       "      <td>5 - ВУЗ</td>\n",
       "      <td>дипломированные специалисты</td>\n",
       "      <td>0</td>\n",
       "      <td>0</td>\n",
       "      <td>...</td>\n",
       "      <td>04:00:00</td>\n",
       "      <td>1</td>\n",
       "      <td>0</td>\n",
       "      <td>0</td>\n",
       "      <td>54-103-101-01</td>\n",
       "      <td>1</td>\n",
       "      <td>1</td>\n",
       "      <td>0</td>\n",
       "      <td>0</td>\n",
       "      <td>0</td>\n",
       "    </tr>\n",
       "    <tr>\n",
       "      <th>2</th>\n",
       "      <td>54-501-026-03</td>\n",
       "      <td>Ж</td>\n",
       "      <td>в браке в настоящее время</td>\n",
       "      <td>европейская</td>\n",
       "      <td>Русские</td>\n",
       "      <td>Христианство</td>\n",
       "      <td>5 - ВУЗ</td>\n",
       "      <td>дипломированные специалисты</td>\n",
       "      <td>0</td>\n",
       "      <td>0</td>\n",
       "      <td>...</td>\n",
       "      <td>07:00:00</td>\n",
       "      <td>0</td>\n",
       "      <td>0</td>\n",
       "      <td>0</td>\n",
       "      <td>54-501-026-03</td>\n",
       "      <td>0</td>\n",
       "      <td>0</td>\n",
       "      <td>0</td>\n",
       "      <td>0</td>\n",
       "      <td>0</td>\n",
       "    </tr>\n",
       "    <tr>\n",
       "      <th>3</th>\n",
       "      <td>54-501-094-02</td>\n",
       "      <td>М</td>\n",
       "      <td>в браке в настоящее время</td>\n",
       "      <td>европейская</td>\n",
       "      <td>Русские</td>\n",
       "      <td>Атеист / агностик</td>\n",
       "      <td>3 - средняя школа / закон.среднее / выше среднего</td>\n",
       "      <td>низкоквалифицированные работники</td>\n",
       "      <td>1</td>\n",
       "      <td>0</td>\n",
       "      <td>...</td>\n",
       "      <td>07:00:00</td>\n",
       "      <td>0</td>\n",
       "      <td>0</td>\n",
       "      <td>0</td>\n",
       "      <td>54-501-094-02</td>\n",
       "      <td>1</td>\n",
       "      <td>0</td>\n",
       "      <td>0</td>\n",
       "      <td>0</td>\n",
       "      <td>0</td>\n",
       "    </tr>\n",
       "    <tr>\n",
       "      <th>4</th>\n",
       "      <td>54-503-022-01</td>\n",
       "      <td>Ж</td>\n",
       "      <td>в браке в настоящее время</td>\n",
       "      <td>европейская</td>\n",
       "      <td>Русские</td>\n",
       "      <td>Христианство</td>\n",
       "      <td>3 - средняя школа / закон.среднее / выше среднего</td>\n",
       "      <td>операторы и монтажники установок и машинного о...</td>\n",
       "      <td>0</td>\n",
       "      <td>0</td>\n",
       "      <td>...</td>\n",
       "      <td>06:00:00</td>\n",
       "      <td>0</td>\n",
       "      <td>0</td>\n",
       "      <td>0</td>\n",
       "      <td>54-503-022-01</td>\n",
       "      <td>1</td>\n",
       "      <td>0</td>\n",
       "      <td>1</td>\n",
       "      <td>1</td>\n",
       "      <td>0</td>\n",
       "    </tr>\n",
       "  </tbody>\n",
       "</table>\n",
       "<p>5 rows × 39 columns</p>\n",
       "</div>"
      ],
      "text/plain": [
       "              ID Пол                      Семья        Этнос Национальность  \\\n",
       "0  54-102-358-02   М  в браке в настоящее время  европейская        Русские   \n",
       "1  54-103-101-01   Ж                  в разводе  европейская        Русские   \n",
       "2  54-501-026-03   Ж  в браке в настоящее время  европейская        Русские   \n",
       "3  54-501-094-02   М  в браке в настоящее время  европейская        Русские   \n",
       "4  54-503-022-01   Ж  в браке в настоящее время  европейская        Русские   \n",
       "\n",
       "             Религия                                        Образование  \\\n",
       "0       Христианство  3 - средняя школа / закон.среднее / выше среднего   \n",
       "1       Христианство                                            5 - ВУЗ   \n",
       "2       Христианство                                            5 - ВУЗ   \n",
       "3  Атеист / агностик  3 - средняя школа / закон.среднее / выше среднего   \n",
       "4       Христианство  3 - средняя школа / закон.среднее / выше среднего   \n",
       "\n",
       "                                           Профессия  Вы работаете?  \\\n",
       "0                   низкоквалифицированные работники              1   \n",
       "1                        дипломированные специалисты              0   \n",
       "2                        дипломированные специалисты              0   \n",
       "3                   низкоквалифицированные работники              1   \n",
       "4  операторы и монтажники установок и машинного о...              0   \n",
       "\n",
       "   Выход на пенсию  ...  Время пробуждения  Сон после обеда  Спорт, клубы  \\\n",
       "0                0  ...           06:00:00                0             0   \n",
       "1                0  ...           04:00:00                1             0   \n",
       "2                0  ...           07:00:00                0             0   \n",
       "3                0  ...           07:00:00                0             0   \n",
       "4                0  ...           06:00:00                0             0   \n",
       "\n",
       "   Религия, клубы           ID_y  Артериальная гипертензия  ОНМК  \\\n",
       "0               0  54-102-358-02                         0     0   \n",
       "1               0  54-103-101-01                         1     1   \n",
       "2               0  54-501-026-03                         0     0   \n",
       "3               0  54-501-094-02                         1     0   \n",
       "4               0  54-503-022-01                         1     0   \n",
       "\n",
       "   Стенокардия, ИБС, инфаркт миокарда  Сердечная недостаточность  \\\n",
       "0                                   0                          0   \n",
       "1                                   0                          0   \n",
       "2                                   0                          0   \n",
       "3                                   0                          0   \n",
       "4                                   1                          1   \n",
       "\n",
       "   Прочие заболевания сердца  \n",
       "0                          0  \n",
       "1                          0  \n",
       "2                          0  \n",
       "3                          0  \n",
       "4                          0  \n",
       "\n",
       "[5 rows x 39 columns]"
      ]
     },
     "execution_count": 117,
     "metadata": {},
     "output_type": "execute_result"
    }
   ],
   "source": [
    "train.head()"
   ]
  },
  {
   "cell_type": "code",
   "execution_count": 111,
   "metadata": {},
   "outputs": [],
   "source": [
    "all_cols = ['Пол', 'Семья', 'Этнос', 'Национальность', 'Религия',\n",
    "       'Образование', 'Профессия', 'Вы работаете?', 'Выход на пенсию',\n",
    "       'Прекращение работы по болезни', 'Сахарный диабет', 'Гепатит',\n",
    "       'Онкология', 'Хроническое заболевание легких', 'Бронжиальная астма',\n",
    "       'Туберкулез легких ', 'ВИЧ/СПИД',\n",
    "       'Регулярный прим лекарственных средств', 'Травмы за год', 'Переломы',\n",
    "       'Статус Курения', 'Возраст курения', 'Сигарет в день',\n",
    "       'Пассивное курение', 'Частота пасс кур', 'Алкоголь', 'Возраст алког',\n",
    "       'Время засыпания', 'Время пробуждения', 'Сон после обеда',\n",
    "       'Спорт, клубы', 'Религия, клубы']\n",
    "category_cols = ['Пол', 'Семья', 'Этнос', 'Национальность', 'Религия', 'Образование']\n",
    "TARGET_COLS = ['Артериальная гипертензия', 'ОНМК', 'Стенокардия, ИБС, инфаркт миокарда', 'Сердечная недостаточность', 'Прочие заболевания сердца']\n"
   ]
  },
  {
   "cell_type": "code",
   "execution_count": 118,
   "metadata": {},
   "outputs": [],
   "source": [
    "from sklearn.model_selection import train_test_split\n",
    "\n",
    "train, target = train.drop(TARGET_COLS, axis=1), train[TARGET_COLS]\n"
   ]
  },
  {
   "cell_type": "code",
   "execution_count": 120,
   "metadata": {},
   "outputs": [],
   "source": [
    "def join_target_cols(data, TARGET_COLS):\n",
    "    new_vector = [0] * len(data[TARGET_COLS[0]])\n",
    "    for i in range(len(TARGET_COLS)):\n",
    "        column = TARGET_COLS[i]\n",
    "        for j in range(len(data[column])):\n",
    "            if data[column][j]:\n",
    "                if new_vector[j]:\n",
    "                    new_vector[j] += i**3\n",
    "                else:\n",
    "                    new_vector[j] += i+1\n",
    "    return pd.DataFrame(new_vector)\n",
    "vec_target = join_target_cols(target, TARGET_COLS)"
   ]
  },
  {
   "cell_type": "code",
   "execution_count": 126,
   "metadata": {},
   "outputs": [
    {
     "name": "stderr",
     "output_type": "stream",
     "text": [
      "c:\\Users\\Кристина\\AppData\\Local\\Programs\\Python\\Python310\\lib\\site-packages\\category_encoders\\target_encoder.py:122: FutureWarning: Default parameter min_samples_leaf will change in version 2.6.See https://github.com/scikit-learn-contrib/category_encoders/issues/327\n",
      "  warnings.warn(\"Default parameter min_samples_leaf will change in version 2.6.\"\n",
      "c:\\Users\\Кристина\\AppData\\Local\\Programs\\Python\\Python310\\lib\\site-packages\\category_encoders\\target_encoder.py:127: FutureWarning: Default parameter smoothing will change in version 2.6.See https://github.com/scikit-learn-contrib/category_encoders/issues/327\n",
      "  warnings.warn(\"Default parameter smoothing will change in version 2.6.\"\n"
     ]
    }
   ],
   "source": [
    "from category_encoders import *\n",
    "enc = TargetEncoder(category_cols).fit(train, vec_target)"
   ]
  },
  {
   "cell_type": "code",
   "execution_count": 128,
   "metadata": {},
   "outputs": [],
   "source": [
    "numeric_dataset = enc.transform(train)"
   ]
  },
  {
   "cell_type": "code",
   "execution_count": 129,
   "metadata": {},
   "outputs": [],
   "source": [
    "X1_train, X1_val, y_train, y_val = train_test_split(numeric_dataset, vec_target)"
   ]
  },
  {
   "cell_type": "code",
   "execution_count": 22,
   "metadata": {},
   "outputs": [],
   "source": [
    "##from catboost import CatBoost, CatBoostRegressor, Pool\n",
    "#train_pool = Pool(X_train, label=y_train,\n",
    "#                  cat_features=category_cols, feature_names=all_cols)"
   ]
  },
  {
   "cell_type": "code",
   "execution_count": 3,
   "metadata": {},
   "outputs": [],
   "source": []
  }
 ],
 "metadata": {
  "kernelspec": {
   "display_name": "Python 3.10.4 64-bit",
   "language": "python",
   "name": "python3"
  },
  "language_info": {
   "codemirror_mode": {
    "name": "ipython",
    "version": 3
   },
   "file_extension": ".py",
   "mimetype": "text/x-python",
   "name": "python",
   "nbconvert_exporter": "python",
   "pygments_lexer": "ipython3",
   "version": "3.10.4"
  },
  "orig_nbformat": 4,
  "vscode": {
   "interpreter": {
    "hash": "c252e5d1b6592dbd04b4fc9df3f9ab814a23a8a047f3abc5698017096e07deaa"
   }
  }
 },
 "nbformat": 4,
 "nbformat_minor": 2
}
